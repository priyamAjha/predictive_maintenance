{
 "cells": [
  {
   "cell_type": "code",
   "execution_count": 1,
   "metadata": {},
   "outputs": [
    {
     "name": "stdout",
     "output_type": "stream",
     "text": [
      "Seaborn:  0.13.0\n",
      "TensorFlow:  2.13.0\n"
     ]
    }
   ],
   "source": [
    "import numpy as np\n",
    "import pandas as pd\n",
    "import matplotlib.pyplot as plt\n",
    "from sklearn.model_selection import train_test_split\n",
    "from sklearn.preprocessing import LabelEncoder, MinMaxScaler\n",
    "from sklearn.metrics import precision_score, recall_score, f1_score, confusion_matrix, roc_auc_score\n",
    "\n",
    "import tensorflow as tf\n",
    "import seaborn as sns\n",
    "from read_data import loadData\n",
    "\n",
    "print(f'Seaborn: ', sns.__version__)\n",
    "print(f'TensorFlow: ', tf.__version__)"
   ]
  },
  {
   "cell_type": "code",
   "execution_count": 2,
   "metadata": {},
   "outputs": [],
   "source": [
    "data_train, testDatasets, expectedRulDatasets = loadData()\n",
    "drop_col = ['setting_1', 'setting_2', 'setting_3'] \n",
    "data_clean = [data.drop(columns = drop_col) for data in data_train]"
   ]
  },
  {
   "cell_type": "code",
   "execution_count": 3,
   "metadata": {},
   "outputs": [],
   "source": [
    "df = pd.DataFrame()\n",
    "for i in range(4):\n",
    "    df =pd.concat([df, data_clean[i]])"
   ]
  },
  {
   "cell_type": "code",
   "execution_count": 4,
   "metadata": {},
   "outputs": [],
   "source": [
    "def add_label(df_all, max_perc):\n",
    "    for engine in list(set(df_all['engine'])):\n",
    "        max_cycle = df_all[df_all['engine'] == engine]['cycle'].max() \n",
    "        condition = (df_all['engine'] == engine) & (df_all['cycle'] > max_cycle*max_perc)\n",
    "        df_all.loc[condition, 'label'] = 1\n",
    "    df_all = df_all.fillna(0)\n",
    "    return df_all"
   ]
  },
  {
   "cell_type": "code",
   "execution_count": 5,
   "metadata": {},
   "outputs": [],
   "source": [
    "df = add_label(df, 0.9)"
   ]
  },
  {
   "cell_type": "code",
   "execution_count": 6,
   "metadata": {},
   "outputs": [
    {
     "data": {
      "text/plain": [
       "label\n",
       "0.0    152410\n",
       "1.0      7949\n",
       "Name: count, dtype: int64"
      ]
     },
     "execution_count": 6,
     "metadata": {},
     "output_type": "execute_result"
    }
   ],
   "source": [
    "df['label'].value_counts()"
   ]
  },
  {
   "cell_type": "code",
   "execution_count": 7,
   "metadata": {},
   "outputs": [],
   "source": [
    "datatypes = dict(zip(df.dtypes.index, df.dtypes))\n",
    "encoder_map = {}\n",
    "for col, datatype in datatypes.items():\n",
    "    if datatype == 'object':\n",
    "        encoder = LabelEncoder()\n",
    "        df[col] = encoder.fit_transform(df[col])\n",
    "        encoder_map[col] = encoder "
   ]
  },
  {
   "cell_type": "code",
   "execution_count": 8,
   "metadata": {},
   "outputs": [],
   "source": [
    "df2 = df.copy()\n",
    "label_corr = df2.drop(columns=['cycle']).corr()['label']"
   ]
  },
  {
   "cell_type": "code",
   "execution_count": 9,
   "metadata": {},
   "outputs": [
    {
     "data": {
      "text/plain": [
       "engine                                  0.055260\n",
       "Fan_inlet_temperature_R                -0.024953\n",
       "LPC_outlet_temperature_R               -0.021844\n",
       "HPC_outlet_temperature_R               -0.006595\n",
       "LPT_outlet_temperature_R               -0.001750\n",
       "Fan_inlet_Pressure_psia                -0.025429\n",
       "bypass_duct_pressure_psia              -0.025781\n",
       "HPC_outlet_pressure_psia               -0.022465\n",
       "Physical_fan_speed_rpm                 -0.019060\n",
       "Physical_core_speed_rpm                -0.005345\n",
       "Engine_pressure_ratioP50_P2            -0.015044\n",
       "HPC_outlet_Static_pressure_psia         0.007929\n",
       "Ratio_of_fuel_flow_to_Ps30_pps_psia    -0.022359\n",
       "Corrected_fan_speed_rpm                -0.008696\n",
       "Corrected_core_speed_rpm                0.054719\n",
       "Bypass_Ratio                            0.011116\n",
       "Burner_fuel_air_ratio                   0.016626\n",
       "Bleed_Enthalpy                         -0.006571\n",
       "Required_fan_speed                     -0.019517\n",
       "Required_fan_conversion_speed          -0.009328\n",
       "High_pressure_turbines_Cool_air_flow   -0.024498\n",
       "Low_pressure_turbines_Cool_air_flow    -0.024491\n",
       "label                                   1.000000\n",
       "Name: label, dtype: float64"
      ]
     },
     "execution_count": 9,
     "metadata": {},
     "output_type": "execute_result"
    }
   ],
   "source": [
    "label_corr"
   ]
  },
  {
   "cell_type": "code",
   "execution_count": 10,
   "metadata": {},
   "outputs": [
    {
     "data": {
      "text/plain": [
       "['engine',\n",
       " 'Fan_inlet_temperature_R',\n",
       " 'LPC_outlet_temperature_R',\n",
       " 'Fan_inlet_Pressure_psia',\n",
       " 'bypass_duct_pressure_psia',\n",
       " 'HPC_outlet_pressure_psia',\n",
       " 'Ratio_of_fuel_flow_to_Ps30_pps_psia',\n",
       " 'Corrected_core_speed_rpm',\n",
       " 'High_pressure_turbines_Cool_air_flow',\n",
       " 'Low_pressure_turbines_Cool_air_flow']"
      ]
     },
     "execution_count": 10,
     "metadata": {},
     "output_type": "execute_result"
    }
   ],
   "source": [
    "train_cols = label_corr[(~label_corr.isna()) & (np.abs(label_corr) > 0.02)]\n",
    "train_cols = list(train_cols[:-1].index)\n",
    "train_cols"
   ]
  },
  {
   "cell_type": "code",
   "execution_count": 11,
   "metadata": {},
   "outputs": [],
   "source": [
    "scaler_map = {}\n",
    "for col in train_cols:\n",
    "    scaler = MinMaxScaler()\n",
    "    df2[col] = scaler.fit_transform(df2[col].values.reshape(-1, 1))\n",
    "    scaler_map[col] = scaler"
   ]
  },
  {
   "cell_type": "code",
   "execution_count": 12,
   "metadata": {},
   "outputs": [],
   "source": [
    "normal_df = df2[df2['label'] == 0]\n",
    "anomaly_df = df2[df2['label'] == 1]"
   ]
  },
  {
   "cell_type": "code",
   "execution_count": 13,
   "metadata": {},
   "outputs": [],
   "source": [
    "labels_norm = normal_df['label']\n",
    "x_train_norm, x_test_norm, y_train_norm, y_test_norm = train_test_split(normal_df[train_cols].values, labels_norm.values, test_size=0.15, random_state=42) "
   ]
  },
  {
   "cell_type": "code",
   "execution_count": 14,
   "metadata": {},
   "outputs": [],
   "source": [
    "# Additional split of training dataset to create validation split\n",
    "x_test_anom, x_val_anom, y_test_anom, y_val_anom = train_test_split(anomaly_df[train_cols].values, anomaly_df['label'].values, test_size=0.2, random_state=42)"
   ]
  },
  {
   "cell_type": "code",
   "execution_count": 15,
   "metadata": {},
   "outputs": [],
   "source": [
    "# Additional split of training dataset to create validation split\n",
    "x_train, x_val_norm, y_train, y_val_norm = train_test_split(x_train_norm, y_train_norm, test_size=0.1, random_state=42)\n"
   ]
  },
  {
   "cell_type": "code",
   "execution_count": 16,
   "metadata": {},
   "outputs": [
    {
     "name": "stdout",
     "output_type": "stream",
     "text": [
      "Shapes\n",
      "x_train:(116593, 10)\n",
      "y_train:(116593,)\n",
      "\n",
      "x_val:(14545, 10)\n",
      "y_val:(14545,)\n",
      "\n",
      "x_test:(29221, 10)\n",
      "y_test:(29221,)\n"
     ]
    }
   ],
   "source": [
    "x_test = np.concatenate((x_test_norm, x_test_anom))\n",
    "y_test = np.concatenate((y_test_norm, y_test_anom))\n",
    "x_val = np.concatenate((x_val_norm, x_val_anom))\n",
    "y_val = np.concatenate((y_val_norm, y_val_anom))\n",
    "print(\"Shapes\")\n",
    "print(f\"x_train:{x_train.shape}\\ny_train:{y_train.shape}\")\n",
    "print(f\"\\nx_val:{x_val.shape}\\ny_val:{y_val.shape}\")\n",
    "print(f\"\\nx_test:{x_test.shape}\\ny_test:{y_test.shape}\")"
   ]
  },
  {
   "cell_type": "code",
   "execution_count": 17,
   "metadata": {},
   "outputs": [],
   "source": [
    "from tensorflow.keras.models import Model\n",
    "from tensorflow.keras.layers import Input, Dense, LeakyReLU, BatchNormalization\n",
    "from tensorflow.keras.regularizers import L2\n",
    "from tensorflow.keras.callbacks import EarlyStopping\n",
    "from tensorflow.keras.losses import BinaryCrossentropy\n",
    "from tensorflow.keras.optimizers import Adam, RMSprop\n",
    "\n",
    "seed = 44\n",
    "tf.random.set_seed(seed)\n",
    "np.random.seed(seed)"
   ]
  },
  {
   "cell_type": "code",
   "execution_count": 18,
   "metadata": {},
   "outputs": [],
   "source": [
    "# The input layer requires you to specify the dimensionality of the x-features (and not the number of samples)\n",
    "noise_dimension = 50\n",
    "data_dim = x_train.shape[-1]\n",
    "## GENERATOR\n",
    "g_in = Input(shape=(noise_dimension))\n",
    "g_h1 = Dense(4*data_dim, activation=LeakyReLU(alpha=0.01), kernel_initializer = 'he_normal')(g_in)\n",
    "g_bn1 = BatchNormalization()(g_h1)\n",
    "g_h2 = Dense(4*data_dim, activation=LeakyReLU(alpha=0.01), kernel_initializer = 'he_normal')(g_bn1)\n",
    "g_bn2 = BatchNormalization()(g_h2)\n",
    "g_h3 = Dense(4*data_dim, activation=LeakyReLU(alpha=0.01), kernel_initializer = 'he_normal')(g_bn2)\n",
    "g_bn3 = BatchNormalization()(g_h3)\n",
    "g_h4 = Dense(data_dim, activation=LeakyReLU(alpha=0.01), kernel_initializer = 'he_normal')(g_bn3)\n",
    "g_bn4 = BatchNormalization()(g_h4)\n",
    "g_out = Dense(data_dim, activation='relu', )(g_bn4)\n",
    "\n",
    "\n",
    "# Creating a model by specifying the input layer and output layer\n",
    "generator = Model(g_in, g_out)"
   ]
  },
  {
   "cell_type": "code",
   "execution_count": 19,
   "metadata": {},
   "outputs": [],
   "source": [
    "## DISCRIMINATOR\n",
    "d_in = Input(shape=(data_dim))\n",
    "d_h1 = Dense(4*data_dim, activation=LeakyReLU(alpha=0.01), kernel_initializer = 'he_normal', )(d_in)\n",
    "d_bn1 = BatchNormalization()(d_h1)\n",
    "d_h2 = Dense(4*data_dim, activation=LeakyReLU(alpha=0.01), kernel_initializer = 'he_normal', )(d_bn1)\n",
    "d_bn2 = BatchNormalization()(d_h2)\n",
    "d_h3 = Dense(2*data_dim, activation=LeakyReLU(alpha=0.01), kernel_initializer = 'he_normal', )(d_bn2)\n",
    "d_bn3 = BatchNormalization()(d_h3)\n",
    "d_h4 = Dense(data_dim, activation=LeakyReLU(alpha=0.01), kernel_initializer = 'he_normal', )(d_bn3)\n",
    "\n",
    "d_out = Dense(1, activation='linear',)(d_h4)\n",
    "\n",
    "# Creating a model by specifying the input layer and output layer\n",
    "discriminator = Model(d_in, d_out)"
   ]
  },
  {
   "cell_type": "code",
   "execution_count": 20,
   "metadata": {},
   "outputs": [],
   "source": [
    "g_optim = RMSprop(5e-5)\n",
    "d_optim = RMSprop(1e-5)"
   ]
  },
  {
   "cell_type": "code",
   "execution_count": 21,
   "metadata": {},
   "outputs": [],
   "source": [
    "batch_size = 80\n",
    "train_dataset = tf.data.Dataset.from_tensor_slices(x_train[:]).shuffle(len(x_train[:])).batch(batch_size)"
   ]
  },
  {
   "cell_type": "code",
   "execution_count": 22,
   "metadata": {},
   "outputs": [],
   "source": [
    "def gradient_penalty(critic, real_data, generated_data):\n",
    "    alpha = tf.random.uniform([real_data.shape[0], 1], 0., 1.)\n",
    "    interpolated_data = alpha * tf.cast(real_data, 'float32') + (1. - alpha) * generated_data\n",
    "    with tf.GradientTape() as tape:\n",
    "        tape.watch(interpolated_data)\n",
    "        critic_interpolated = critic(interpolated_data)\n",
    "    gradients = tape.gradient(critic_interpolated, [interpolated_data])[0]\n",
    "    gradients_norm = tf.sqrt(tf.reduce_sum(tf.square(gradients), axis=[1]))\n",
    "    gradient_penalty = tf.reduce_mean((gradients_norm - 1.)**2)\n",
    "    return gradient_penalty"
   ]
  },
  {
   "cell_type": "code",
   "execution_count": 23,
   "metadata": {},
   "outputs": [
    {
     "name": "stdout",
     "output_type": "stream",
     "text": [
      "\n",
      "Epoch 0\n",
      "455/455 [==============================] - 1s 947us/step6776428222656 real 0.5941532850265503 fake 4\n",
      "\n",
      " 0.10752309102446592 0.9591194968553459 0.19336841437900212\n",
      "\n",
      "Epoch 1\n",
      "455/455 [==============================] - 0s 947us/step47265625 real 0.9676143527030945 fake 1362.\n",
      "\n",
      " 0.10931591612237883 1.0 0.19708707778122095\n",
      "\n",
      "Epoch 2\n",
      "455/455 [==============================] - 1s 2ms/step125 real 1.61808049678802\n",
      "\n",
      " 0.10931591612237883 1.0 0.19708707778122095\n",
      "\n",
      "Epoch 3\n",
      "455/455 [==============================] - 1s 2ms/step1796875 real 2.707831621\n",
      "\n",
      " 0.10931591612237883 1.0 0.19708707778122095\n",
      "\n",
      "Epoch 4\n",
      "455/455 [==============================] - 1s 2ms/stepreal 4.216491\n",
      "\n",
      " 0.10931591612237883 1.0 0.19708707778122095\n",
      "\n",
      "Epoch 5\n",
      "455/455 [==============================] - 1s 2ms/stepreal 5.793\n",
      "\n",
      " 0.1099246231155779 0.9905660377358491 0.1978891820580475\n",
      "\n",
      "Epoch 6\n",
      "455/455 [==============================] - 1s 2ms/stepal 6.97326\n",
      "\n",
      " 0.11011251857618003 0.9786163522012579 0.19795178423764392\n",
      "\n",
      "Epoch 7\n",
      "455/455 [==============================] - 1s 2ms/stepreal 8.63500\n",
      "\n",
      " 0.11045929317498927 0.9710691823899371 0.1983556012332991\n",
      "\n",
      "Epoch 8\n",
      "455/455 [==============================] - 1s 2ms/stepreal 10.014077186\n",
      "\n",
      " 0.11090988119385685 0.9628930817610063 0.1989086657139145\n",
      "\n",
      "Epoch 9\n",
      "455/455 [==============================] - 1s 3ms/step0 \n",
      "\n",
      " 0.11413787855729722 0.9433962264150944 0.20363833831115938\n",
      "\n",
      "Epoch 10\n",
      "455/455 [==============================] - 1s 2ms/step0 real 1\n",
      "\n",
      " 0.12240262471607638 0.9150943396226415 0.2159234250946056\n",
      "\n",
      "Epoch 11\n",
      "455/455 [==============================] - 1s 2ms/step6.0 real\n",
      "\n",
      " 0.12164407520769567 0.8748427672955975 0.21358925143953933\n",
      "\n",
      "Epoch 12\n",
      "455/455 [==============================] - 1s 2ms/step8.0 real 47.9697\n",
      "\n",
      " 0.12196428571428572 0.8591194968553459 0.21360437842064114\n",
      "\n",
      "Epoch 13\n",
      "455/455 [==============================] - 1s 2ms/step8.0 real 69.01\n",
      "\n",
      " 0.12164948453608247 0.8534591194968554 0.21294625343271872\n",
      "\n",
      "Epoch 14\n",
      "455/455 [==============================] - 1s 2ms/step464.0 real \n",
      "\n",
      " 0.12026155341521605 0.8559748427672956 0.21089331370574108\n",
      "\n",
      "Epoch 15\n",
      "455/455 [==============================] - 1s 2ms/step008.0 real 132.33\n",
      "\n",
      " 0.11886084583901774 0.8767295597484277 0.2093407418531311\n",
      "\n",
      "Epoch 16\n",
      "455/455 [==============================] - 1s 2ms/step776.0 real \n",
      "\n",
      " 0.11855113400348924 0.8974842767295598 0.20943714684083073\n",
      "\n",
      "Epoch 17\n",
      "455/455 [==============================] - 1s 2ms/step568.0 r\n",
      "\n",
      " 0.11810635325059587 0.9037735849056604 0.20891182670640404\n",
      "\n",
      "Epoch 18\n",
      "455/455 [==============================] - 1s 2ms/step93248.0 real 3\n",
      "\n",
      " 0.11797844546048335 0.9088050314465409 0.20884520884520882\n",
      "\n",
      "Epoch 19\n",
      "455/455 [==============================] - 1s 2ms/step88544.0 real\n",
      "\n",
      " 0.11758491792621485 0.910062893081761 0.2082613701784686\n"
     ]
    }
   ],
   "source": [
    "epochs = 20\n",
    "lambda_gp = 10\n",
    "\n",
    "g_loss = 0\n",
    "d_loss = 0\n",
    "d_loss_real = 0\n",
    "d_loss_fake = 0\n",
    "for e in range(epochs):\n",
    "    print(f'\\nEpoch {e}')\n",
    "    for i, batch_x in enumerate(train_dataset):\n",
    "        print(f'\\r  {i}/{len(train_dataset)}: g_loss {g_loss} | d_loss: {d_loss} real {d_loss_real} fake {d_loss_fake}'.ljust(100, ' '), end='')\n",
    "\n",
    "        random_noise = tf.random.normal([len(batch_x), noise_dimension])\n",
    "\n",
    "        with tf.GradientTape() as gen_tape, tf.GradientTape() as disc_tape:\n",
    "            g_output = generator(random_noise)\n",
    "\n",
    "            real_outputs = discriminator(batch_x)\n",
    "            fake_outputs = discriminator(g_output)\n",
    "\n",
    "            g_loss = -1*tf.keras.backend.mean(tf.ones_like(fake_outputs) * fake_outputs)\n",
    "\n",
    "            d_loss_real = tf.keras.backend.mean(tf.ones_like(real_outputs) * real_outputs)\n",
    "            d_loss_fake = tf.keras.backend.mean(tf.ones_like(fake_outputs) * fake_outputs)\n",
    "\n",
    "            # # d_loss = d_loss_real - d_loss_fake \n",
    "            gp = gradient_penalty(discriminator, batch_x, g_output)\n",
    "            \n",
    "            # Combine losses\n",
    "            d_loss = d_loss_real - d_loss_fake + lambda_gp * gp\n",
    "            \n",
    "        d_grads = disc_tape.gradient(d_loss, discriminator.trainable_variables)\n",
    "        d_optim.apply_gradients(zip(d_grads, discriminator.trainable_variables))\n",
    "\n",
    "        g_grads = gen_tape.gradient(g_loss, generator.trainable_variables)\n",
    "        g_optim.apply_gradients(zip(g_grads, generator.trainable_variables))\n",
    "    preds = discriminator.predict(x_val)\n",
    "    preds = np.where(preds.reshape(-1) < 0, 0, 1)\n",
    "    print('\\n', precision_score(y_val, preds), recall_score(y_val, preds), f1_score(y_val, preds))\n"
   ]
  },
  {
   "cell_type": "code",
   "execution_count": 24,
   "metadata": {},
   "outputs": [
    {
     "name": "stdout",
     "output_type": "stream",
     "text": [
      "914/914 [==============================] - 2s 2ms/step\n"
     ]
    }
   ],
   "source": [
    "preds = discriminator.predict(x_test)\n",
    "y_pred = np.where(preds.reshape(-1) < 0, 0, 1)"
   ]
  },
  {
   "cell_type": "code",
   "execution_count": 25,
   "metadata": {},
   "outputs": [
    {
     "name": "stdout",
     "output_type": "stream",
     "text": [
      "Precision: 0.23351342761798824\n",
      "Recall: 0.9243591759710647\n",
      "F1-Measure: 0.37283942786464114\n"
     ]
    }
   ],
   "source": [
    "precision = precision_score(y_test, y_pred)\n",
    "recall = recall_score(y_test, y_pred)\n",
    "f1 = f1_score(y_test, y_pred)\n",
    "\n",
    "print(f\"Precision: {precision}\")\n",
    "print(f\"Recall: {recall}\")\n",
    "print(f\"F1-Measure: {f1}\")"
   ]
  },
  {
   "cell_type": "code",
   "execution_count": 26,
   "metadata": {},
   "outputs": [
    {
     "data": {
      "text/plain": [
       "1    25172\n",
       "0     4049\n",
       "Name: count, dtype: int64"
      ]
     },
     "execution_count": 26,
     "metadata": {},
     "output_type": "execute_result"
    }
   ],
   "source": [
    "pd.Series(y_pred).value_counts()"
   ]
  },
  {
   "cell_type": "code",
   "execution_count": 27,
   "metadata": {},
   "outputs": [
    {
     "data": {
      "text/plain": [
       "0.0    22862\n",
       "1.0     6359\n",
       "Name: count, dtype: int64"
      ]
     },
     "execution_count": 27,
     "metadata": {},
     "output_type": "execute_result"
    }
   ],
   "source": [
    "pd.Series(y_test).value_counts()"
   ]
  },
  {
   "cell_type": "code",
   "execution_count": 28,
   "metadata": {},
   "outputs": [
    {
     "data": {
      "text/plain": [
       "Text(50.722222222222214, 0.5, 'True Label')"
      ]
     },
     "execution_count": 28,
     "metadata": {},
     "output_type": "execute_result"
    },
    {
     "data": {
      "image/png": "[encoded data removed]",
      "text/plain": [
       "<Figure size 640x480 with 2 Axes>"
      ]
     },
     "metadata": {},
     "output_type": "display_data"
    }
   ],
   "source": [
    "cm = confusion_matrix(y_test, y_pred)\n",
    "plt.title(\"Confusion Matrix\")\n",
    "ax = sns.heatmap(cm, annot=True, fmt='0.0f')\n",
    "ax.invert_yaxis()\n",
    "ax.invert_xaxis()\n",
    "ax.set_xlabel('Predicted Label')\n",
    "ax.set_ylabel('True Label')"
   ]
  },
  {
   "cell_type": "code",
   "execution_count": 29,
   "metadata": {},
   "outputs": [],
   "source": [
    "from sklearn.metrics import classification_report"
   ]
  },
  {
   "cell_type": "code",
   "execution_count": 30,
   "metadata": {},
   "outputs": [
    {
     "name": "stdout",
     "output_type": "stream",
     "text": [
      "              precision    recall  f1-score   support\n",
      "\n",
      "         0.0       0.88      0.16      0.27     22862\n",
      "         1.0       0.23      0.92      0.37      6359\n",
      "\n",
      "    accuracy                           0.32     29221\n",
      "   macro avg       0.56      0.54      0.32     29221\n",
      "weighted avg       0.74      0.32      0.29     29221\n",
      "\n"
     ]
    }
   ],
   "source": [
    "print(classification_report(y_test, y_pred))"
   ]
  },
  {
   "cell_type": "code",
   "execution_count": null,
   "metadata": {},
   "outputs": [],
   "source": []
  }
 ],
 "metadata": {
  "kernelspec": {
   "display_name": "patch_env",
   "language": "python",
   "name": "python3"
  },
  "language_info": {
   "codemirror_mode": {
    "name": "ipython",
    "version": 3
   },
   "file_extension": ".py",
   "mimetype": "text/x-python",
   "name": "python",
   "nbconvert_exporter": "python",
   "pygments_lexer": "ipython3",
   "version": "3.8.0"
  }
 },
 "nbformat": 4,
 "nbformat_minor": 2
}
