{
 "cells": [
  {
   "cell_type": "code",
   "execution_count": 1,
   "metadata": {},
   "outputs": [
    {
     "name": "stderr",
     "output_type": "stream",
     "text": [
      "c:\\Users\\02213R744\\anaconda3\\envs\\patch_env\\lib\\site-packages\\tqdm\\auto.py:21: TqdmWarning: IProgress not found. Please update jupyter and ipywidgets. See https://ipywidgets.readthedocs.io/en/stable/user_install.html\n",
      "  from .autonotebook import tqdm as notebook_tqdm\n"
     ]
    }
   ],
   "source": [
    "import random\n",
    "import yaml\n",
    "import pickle\n",
    "# Third Party\n",
    "from transformers import (\n",
    "    PatchTSMixerForPrediction,\n",
    "    Trainer,\n",
    "    TrainingArguments,\n",
    ")\n",
    "import numpy as np\n",
    "import pandas as pd\n",
    "import torch\n",
    "from tsfm_public.toolkit.dataset import ForecastDFDataset\n",
    "from read_data import loadData"
   ]
  },
  {
   "cell_type": "code",
   "execution_count": 2,
   "metadata": {},
   "outputs": [],
   "source": [
    "SEED = 42\n",
    "torch.manual_seed(SEED)\n",
    "random.seed(SEED)\n",
    "np.random.seed(SEED)\n",
    "with open(\"./config.yaml\", \"r\") as file:\n",
    "    configs = yaml.safe_load(file)\n",
    "\n",
    "num_workers = configs['num_workers'] \n",
    "batch_size = configs['batch_size']  \n",
    "context_length = configs['context_length'] \n",
    "forecast_horizon = configs['forecast_horizon'] \n",
    "patch_length = configs['patch_length'] \n",
    "target_col = None\n",
    "timestamp_column = \"cycle\" "
   ]
  },
  {
   "cell_type": "code",
   "execution_count": 3,
   "metadata": {},
   "outputs": [],
   "source": [
    "data_train, testDatasets, expectedRulDatasets = loadData()"
   ]
  },
  {
   "cell_type": "code",
   "execution_count": 4,
   "metadata": {},
   "outputs": [],
   "source": [
    "drop_col = ['setting_1', 'setting_2', 'setting_3'] \n",
    "data_clean = [data.drop(columns = drop_col) for data in data_train]"
   ]
  },
  {
   "cell_type": "code",
   "execution_count": 5,
   "metadata": {},
   "outputs": [],
   "source": [
    "df_all = pd.DataFrame()\n",
    "for i in range(4):\n",
    "    df_all =pd.concat([df_all, data_clean[i]])"
   ]
  },
  {
   "cell_type": "code",
   "execution_count": 6,
   "metadata": {},
   "outputs": [],
   "source": [
    "for engine in list(set(df_all['engine'])):\n",
    "    max_cycle = df_all[df_all['engine'] == engine]['cycle'].max() \n",
    "    condition = (df_all['engine'] == engine) & (df_all['cycle'] > max_cycle - 25)\n",
    "    df_all.loc[condition, 'label'] = 1"
   ]
  },
  {
   "cell_type": "code",
   "execution_count": 7,
   "metadata": {},
   "outputs": [],
   "source": [
    "df_all = df_all.fillna(0)"
   ]
  },
  {
   "cell_type": "code",
   "execution_count": 8,
   "metadata": {},
   "outputs": [],
   "source": [
    "df_engine_1 = df_all.drop(columns=['index'], errors='ignore')"
   ]
  },
  {
   "cell_type": "code",
   "execution_count": 9,
   "metadata": {},
   "outputs": [],
   "source": [
    "correlation_matrix = df_engine_1.drop(columns=['engine']).corr()\n",
    "high_corr_columns = correlation_matrix[abs(correlation_matrix['label'] )> 0.03].index.tolist()\n",
    "# high_corr_columns = correlation_matrix[correlation_matrix['label'] > 0.05].index.tolist()\n",
    "df_sample = df_engine_1[high_corr_columns]"
   ]
  },
  {
   "cell_type": "code",
   "execution_count": 10,
   "metadata": {},
   "outputs": [],
   "source": [
    "col_train = ['cycle', 'Fan_inlet_temperature_R', 'Fan_inlet_Pressure_psia',\n",
    "       'bypass_duct_pressure_psia', 'HPC_outlet_pressure_psia',\n",
    "       'Ratio_of_fuel_flow_to_Ps30_pps_psia', 'Corrected_core_speed_rpm',\n",
    "       'High_pressure_turbines_Cool_air_flow',\n",
    "       'Low_pressure_turbines_Cool_air_flow', 'index']"
   ]
  },
  {
   "cell_type": "code",
   "execution_count": 11,
   "metadata": {},
   "outputs": [
    {
     "name": "stderr",
     "output_type": "stream",
     "text": [
      "C:\\Users\\02213R744\\AppData\\Local\\Temp\\ipykernel_26344\\864869447.py:1: SettingWithCopyWarning: \n",
      "A value is trying to be set on a copy of a slice from a DataFrame\n",
      "\n",
      "See the caveats in the documentation: https://pandas.pydata.org/pandas-docs/stable/user_guide/indexing.html#returning-a-view-versus-a-copy\n",
      "  df_sample.drop(columns=['label'], inplace=True)\n"
     ]
    }
   ],
   "source": [
    "df_sample.drop(columns=['label'], inplace=True)"
   ]
  },
  {
   "cell_type": "code",
   "execution_count": 12,
   "metadata": {},
   "outputs": [
    {
     "data": {
      "text/plain": [
       "((160359, 9), (160359, 24))"
      ]
     },
     "execution_count": 12,
     "metadata": {},
     "output_type": "execute_result"
    }
   ],
   "source": [
    "df_sample.shape, df_engine_1.shape"
   ]
  },
  {
   "cell_type": "code",
   "execution_count": 13,
   "metadata": {},
   "outputs": [],
   "source": [
    "target_col = None "
   ]
  },
  {
   "cell_type": "code",
   "execution_count": 14,
   "metadata": {},
   "outputs": [],
   "source": [
    "# df_sample2 = df_sample[100000:160359]\n",
    "df_sample2 = df_sample[:10000]"
   ]
  },
  {
   "cell_type": "code",
   "execution_count": 15,
   "metadata": {},
   "outputs": [
    {
     "name": "stderr",
     "output_type": "stream",
     "text": [
      "c:\\Users\\02213R744\\Documents\\College\\CLG\\MtechProject\\code\\main\\predictive_maintenance\\lib\\tsfm_public\\toolkit\\time_series_preprocessor.py:220: SettingWithCopyWarning: \n",
      "A value is trying to be set on a copy of a slice from a DataFrame.\n",
      "Try using .loc[row_indexer,col_indexer] = value instead\n",
      "\n",
      "See the caveats in the documentation: https://pandas.pydata.org/pandas-docs/stable/user_guide/indexing.html#returning-a-view-versus-a-copy\n",
      "  df[INTERNAL_ID_COLUMN] = INTERNAL_ID_VALUE\n",
      "c:\\Users\\02213R744\\anaconda3\\envs\\patch_env\\lib\\site-packages\\accelerate\\accelerator.py:432: FutureWarning: Passing the following arguments to `Accelerator` is deprecated and will be removed in version 1.0 of Accelerate: dict_keys(['dispatch_batches', 'split_batches']). Please pass an `accelerate.DataLoaderConfiguration` instead: \n",
      "dataloader_config = DataLoaderConfiguration(dispatch_batches=None, split_batches=False)\n",
      "  warnings.warn(\n"
     ]
    },
    {
     "name": "stdout",
     "output_type": "stream",
     "text": [
      "Loading pretrained model\n",
      "Done\n",
      "1\n",
      "2\n",
      "3\n",
      "4\n",
      "Saved dataframe named data_patch with context aware features at output folder\n"
     ]
    }
   ],
   "source": [
    "class PatchTSFeatureExtraction():\n",
    "    data = df_sample2\n",
    "    id_columns = []\n",
    "    forecast_columns = [col for col in data.columns if col not in timestamp_column]\n",
    "    with open(\"../model/patch_model/timeseriesprocessor.pkl\", \"rb\") as file:\n",
    "        tsp = pickle.load(file)\n",
    "    all_dataset = ForecastDFDataset(\n",
    "        tsp.preprocess(data),\n",
    "        id_columns=id_columns,\n",
    "        input_columns=forecast_columns,\n",
    "        output_columns=forecast_columns,\n",
    "        context_length=context_length,\n",
    "        prediction_length=forecast_horizon,\n",
    "    )\n",
    "    print(\"Loading pretrained model\")\n",
    "    inference_forecast_model = PatchTSMixerForPrediction.from_pretrained(configs['foundation_model_path'])\n",
    "    print(\"Done\")\n",
    "    all_trainer = Trainer(args= TrainingArguments(output_dir=\"./output\",per_device_eval_batch_size =batch_size), model=inference_forecast_model, \n",
    "                        eval_dataset=all_dataset)\n",
    "    all_dls = all_trainer.get_eval_dataloader()\n",
    "    def return_con_ten(all_dls,inference_forecast_model):\n",
    "        concatenated_tensors = []\n",
    "        for x in all_dls:\n",
    "            output = inference_forecast_model(past_values=x['past_values'])        \n",
    "            model_output = output.last_hidden_state\n",
    "            all_channels_compact_embedding = model_output.mean(dim = (2,3))\n",
    "            concatenated_tensors.append(all_channels_compact_embedding.unsqueeze(0))\n",
    "        return concatenated_tensors\n",
    "    concatenated_tensors = return_con_ten(all_dls, inference_forecast_model)\n",
    "    print('1')\n",
    "    concatenated_tensors_sm = concatenated_tensors[:-1]\n",
    "    print('2')\n",
    "    result_tensor = torch.cat(concatenated_tensors_sm, dim=1)\n",
    "    print('3')\n",
    "    final_df=pd.DataFrame(result_tensor[0].detach().numpy(),columns=forecast_columns,index=data.index[:len(result_tensor[0])])\n",
    "    print('4')\n",
    "    final_df.to_csv(f'./output/data_patch_1.csv', index=False)\n",
    "    print('Saved dataframe named data_patch with context aware features at output folder')"
   ]
  },
  {
   "cell_type": "code",
   "execution_count": 12,
   "metadata": {},
   "outputs": [],
   "source": [
    "df = pd.read_csv(\"./output/data_patch.csv\")"
   ]
  },
  {
   "cell_type": "code",
   "execution_count": 13,
   "metadata": {},
   "outputs": [
    {
     "data": {
      "text/html": [
       "<div>\n",
       "<style scoped>\n",
       "    .dataframe tbody tr th:only-of-type {\n",
       "        vertical-align: middle;\n",
       "    }\n",
       "\n",
       "    .dataframe tbody tr th {\n",
       "        vertical-align: top;\n",
       "    }\n",
       "\n",
       "    .dataframe thead th {\n",
       "        text-align: right;\n",
       "    }\n",
       "</style>\n",
       "<table border=\"1\" class=\"dataframe\">\n",
       "  <thead>\n",
       "    <tr style=\"text-align: right;\">\n",
       "      <th></th>\n",
       "      <th>label</th>\n",
       "    </tr>\n",
       "  </thead>\n",
       "  <tbody>\n",
       "    <tr>\n",
       "      <th>0</th>\n",
       "      <td>0.051166</td>\n",
       "    </tr>\n",
       "    <tr>\n",
       "      <th>1</th>\n",
       "      <td>0.051166</td>\n",
       "    </tr>\n",
       "    <tr>\n",
       "      <th>2</th>\n",
       "      <td>0.051166</td>\n",
       "    </tr>\n",
       "    <tr>\n",
       "      <th>3</th>\n",
       "      <td>0.051166</td>\n",
       "    </tr>\n",
       "    <tr>\n",
       "      <th>4</th>\n",
       "      <td>0.051166</td>\n",
       "    </tr>\n",
       "    <tr>\n",
       "      <th>...</th>\n",
       "      <td>...</td>\n",
       "    </tr>\n",
       "    <tr>\n",
       "      <th>160321</th>\n",
       "      <td>-0.182871</td>\n",
       "    </tr>\n",
       "    <tr>\n",
       "      <th>160322</th>\n",
       "      <td>-0.185774</td>\n",
       "    </tr>\n",
       "    <tr>\n",
       "      <th>160323</th>\n",
       "      <td>-0.185280</td>\n",
       "    </tr>\n",
       "    <tr>\n",
       "      <th>160324</th>\n",
       "      <td>-0.141838</td>\n",
       "    </tr>\n",
       "    <tr>\n",
       "      <th>160325</th>\n",
       "      <td>-0.133564</td>\n",
       "    </tr>\n",
       "  </tbody>\n",
       "</table>\n",
       "<p>160326 rows × 1 columns</p>\n",
       "</div>"
      ],
      "text/plain": [
       "           label\n",
       "0       0.051166\n",
       "1       0.051166\n",
       "2       0.051166\n",
       "3       0.051166\n",
       "4       0.051166\n",
       "...          ...\n",
       "160321 -0.182871\n",
       "160322 -0.185774\n",
       "160323 -0.185280\n",
       "160324 -0.141838\n",
       "160325 -0.133564\n",
       "\n",
       "[160326 rows x 1 columns]"
      ]
     },
     "execution_count": 13,
     "metadata": {},
     "output_type": "execute_result"
    }
   ],
   "source": [
    "df"
   ]
  },
  {
   "cell_type": "code",
   "execution_count": 10,
   "metadata": {},
   "outputs": [
    {
     "data": {
      "text/plain": [
       "(921, 11)"
      ]
     },
     "execution_count": 10,
     "metadata": {},
     "output_type": "execute_result"
    }
   ],
   "source": [
    "df_sample.shape"
   ]
  },
  {
   "cell_type": "code",
   "execution_count": 11,
   "metadata": {},
   "outputs": [
    {
     "data": {
      "text/plain": [
       "33"
      ]
     },
     "execution_count": 11,
     "metadata": {},
     "output_type": "execute_result"
    }
   ],
   "source": [
    "921-888"
   ]
  },
  {
   "cell_type": "code",
   "execution_count": null,
   "metadata": {},
   "outputs": [],
   "source": []
  }
 ],
 "metadata": {
  "kernelspec": {
   "display_name": "patch_env",
   "language": "python",
   "name": "python3"
  },
  "language_info": {
   "codemirror_mode": {
    "name": "ipython",
    "version": 3
   },
   "file_extension": ".py",
   "mimetype": "text/x-python",
   "name": "python",
   "nbconvert_exporter": "python",
   "pygments_lexer": "ipython3",
   "version": "3.8.0"
  }
 },
 "nbformat": 4,
 "nbformat_minor": 2
}
